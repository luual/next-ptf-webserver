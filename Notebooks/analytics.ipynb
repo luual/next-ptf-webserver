{
 "cells": [
  {
   "cell_type": "code",
   "execution_count": 3,
   "metadata": {},
   "outputs": [],
   "source": [
    "import requests\n",
    "import pandas\n",
    "\n",
    "results = requests.get(\"http://localhost:6200/api/stocks\")\n"
   ]
  },
  {
   "cell_type": "code",
   "execution_count": 16,
   "metadata": {},
   "outputs": [
    {
     "data": {
      "text/plain": [
       "<pandas.core.groupby.generic.DataFrameGroupBy object at 0x137dccd60>"
      ]
     },
     "execution_count": 16,
     "metadata": {},
     "output_type": "execute_result"
    }
   ],
   "source": [
    "pandas.DataFrame(results.json()).groupby(['symbol'])"
   ]
  },
  {
   "cell_type": "code",
   "execution_count": 72,
   "metadata": {},
   "outputs": [],
   "source": [
    "import redis\n",
    "\n",
    "r = redis.Redis(host='localhost', port=6379, db=0)\n",
    "ts = r.ts()"
   ]
  },
  {
   "cell_type": "code",
   "execution_count": 73,
   "metadata": {},
   "outputs": [],
   "source": [
    "from datetime import datetime, timedelta"
   ]
  },
  {
   "cell_type": "code",
   "execution_count": 80,
   "metadata": {},
   "outputs": [
    {
     "data": {
      "text/plain": [
       "[(1693411760245, 123.0),\n",
       " (1693412117654, 22.0),\n",
       " (1693412128374, 22.0),\n",
       " (1693413307242, 1.0)]"
      ]
     },
     "execution_count": 80,
     "metadata": {},
     "output_type": "execute_result"
    }
   ],
   "source": [
    "l = ts.range(\"pcmd\", \"-\", \"+\", latest=True)\n",
    "l"
   ]
  },
  {
   "cell_type": "code",
   "execution_count": 82,
   "metadata": {},
   "outputs": [
    {
     "data": {
      "text/plain": [
       "[(1693413307242, 1.0),\n",
       " (1693412128374, 22.0),\n",
       " (1693412117654, 22.0),\n",
       " (1693411760245, 123.0)]"
      ]
     },
     "execution_count": 82,
     "metadata": {},
     "output_type": "execute_result"
    }
   ],
   "source": [
    "ts.revrange('pcmd', '-', '+', count=10)"
   ]
  },
  {
   "cell_type": "code",
   "execution_count": 39,
   "metadata": {},
   "outputs": [
    {
     "data": {
      "text/plain": [
       "(1693413307242, 1.0)"
      ]
     },
     "execution_count": 39,
     "metadata": {},
     "output_type": "execute_result"
    }
   ],
   "source": [
    "last = ts.get(\"pcmd\")\n",
    "last\n"
   ]
  },
  {
   "cell_type": "code",
   "execution_count": 46,
   "metadata": {},
   "outputs": [
    {
     "data": {
      "text/plain": [
       "datetime.datetime(2023, 8, 30, 18, 35, 7, 242000)"
      ]
     },
     "execution_count": 46,
     "metadata": {},
     "output_type": "execute_result"
    }
   ],
   "source": [
    "datetime.fromtimestamp(last[0]/ 1000)"
   ]
  },
  {
   "cell_type": "code",
   "execution_count": null,
   "metadata": {},
   "outputs": [],
   "source": [
    "r.exists(\"pcmd\")\n",
    "ts.crea"
   ]
  },
  {
   "cell_type": "code",
   "execution_count": 29,
   "metadata": {},
   "outputs": [
    {
     "data": {
      "text/plain": [
       "[b'sensor1', b'pcmd']"
      ]
     },
     "execution_count": 29,
     "metadata": {},
     "output_type": "execute_result"
    }
   ],
   "source": [
    "pubsub = r.pubsub()\n",
    "r.keys()"
   ]
  },
  {
   "cell_type": "code",
   "execution_count": null,
   "metadata": {},
   "outputs": [],
   "source": [
    "pubsub.subscribe(\"channel1\")"
   ]
  },
  {
   "cell_type": "code",
   "execution_count": 21,
   "metadata": {},
   "outputs": [
    {
     "data": {
      "text/plain": [
       "[3, 4, 5, 6, 7, 8, 9]"
      ]
     },
     "execution_count": 21,
     "metadata": {},
     "output_type": "execute_result"
    }
   ],
   "source": [
    "# for message in pubsub.listen():\n",
    "#     print(message)\n",
    "\n",
    "def start(func, *args, **kwargs):\n",
    "    if isinstance(func, str):\n",
    "        wrapper = lambda x: getattr(x, func)(*args, **kwargs)\n",
    "    else:\n",
    "        wrapper = lambda x: func(x, *args, **kwargs)\n",
    "    n = [1,2,3,4,5,6,7,8,9]\n",
    "    for i in n:\n",
    "        if wrapper(i):\n",
    "            yield i\n",
    "\n",
    "list(start(lambda x: x > 2))"
   ]
  },
  {
   "cell_type": "code",
   "execution_count": 53,
   "metadata": {},
   "outputs": [
    {
     "data": {
      "text/plain": [
       "datetime.datetime(2023, 9, 18, 9, 55, 42, 954089)"
      ]
     },
     "execution_count": 53,
     "metadata": {},
     "output_type": "execute_result"
    }
   ],
   "source": [
    "ts = datetime.now().timestamp()\n",
    "\n",
    "datetime.fromtimestamp(ts)"
   ]
  },
  {
   "cell_type": "code",
   "execution_count": 66,
   "metadata": {},
   "outputs": [],
   "source": [
    "days = [i + 1 for i in range(10)]\n",
    "output = []\n",
    "dates = [(datetime.now() + timedelta(days=-i)).timestamp() for i in days]\n",
    "dates.sort()"
   ]
  },
  {
   "cell_type": "code",
   "execution_count": 125,
   "metadata": {},
   "outputs": [],
   "source": [
    "def get_hprice_from_symbol(symbol: str, depth:int = 10) -> list[any]:\n",
    "    output = []\n",
    "    r = redis.Redis(host='localhost', port=6379, db=0)\n",
    "    ts = r.ts()\n",
    "    tsrev = ts.revrange(symbol, '-', '+', depth)\n",
    "    for item in tsrev:\n",
    "        output.append((datetime.fromtimestamp(item[0] / 1_000), item[1]))\n",
    "    output.reverse()\n",
    "    return output"
   ]
  },
  {
   "cell_type": "code",
   "execution_count": 86,
   "metadata": {},
   "outputs": [
    {
     "name": "stdout",
     "output_type": "stream",
     "text": [
      "2023-08-30 18:35:07.242000 : 1.0\n",
      "2023-08-30 18:15:28.374000 : 22.0\n",
      "2023-08-30 18:15:17.654000 : 22.0\n",
      "2023-08-30 18:09:20.245000 : 123.0\n"
     ]
    }
   ],
   "source": [
    "r = redis.Redis(host='localhost', port=6379, db=0)\n",
    "ts = r.ts()\n",
    "reversed = ts.revrange('pcmd', '-', '+', 10)\n",
    "for item in reversed:\n",
    "    print(f'{datetime.fromtimestamp(item[0]/1_000)} : {item[1]}')"
   ]
  },
  {
   "cell_type": "code",
   "execution_count": 126,
   "metadata": {},
   "outputs": [],
   "source": [
    "get_hprice_from_symbol('CHINA SUN GROUP HIGH-TECH CO')"
   ]
  },
  {
   "cell_type": "code",
   "execution_count": 117,
   "metadata": {},
   "outputs": [
    {
     "data": {
      "text/plain": [
       "1695042297254"
      ]
     },
     "execution_count": 117,
     "metadata": {},
     "output_type": "execute_result"
    }
   ],
   "source": [
    "datetime.now().timestamp()\n",
    "ts.add('abc', int(datetime.now().timestamp() * 1000), 123)"
   ]
  },
  {
   "cell_type": "code",
   "execution_count": null,
   "metadata": {},
   "outputs": [],
   "source": []
  }
 ],
 "metadata": {
  "kernelspec": {
   "display_name": "venv",
   "language": "python",
   "name": "python3"
  },
  "language_info": {
   "codemirror_mode": {
    "name": "ipython",
    "version": 3
   },
   "file_extension": ".py",
   "mimetype": "text/x-python",
   "name": "python",
   "nbconvert_exporter": "python",
   "pygments_lexer": "ipython3",
   "version": "3.9.6"
  },
  "orig_nbformat": 4
 },
 "nbformat": 4,
 "nbformat_minor": 2
}
