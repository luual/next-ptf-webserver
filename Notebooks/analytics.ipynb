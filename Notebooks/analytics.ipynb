{
 "cells": [
  {
   "cell_type": "code",
   "execution_count": 5,
   "metadata": {},
   "outputs": [],
   "source": [
    "import requests\n",
    "import pandas\n",
    "\n",
    "# results = requests.get(\"http://localhost:6200/api/stocks\")\n"
   ]
  },
  {
   "cell_type": "code",
   "execution_count": 6,
   "metadata": {},
   "outputs": [
    {
     "ename": "NameError",
     "evalue": "name 'results' is not defined",
     "output_type": "error",
     "traceback": [
      "\u001b[0;31m---------------------------------------------------------------------------\u001b[0m",
      "\u001b[0;31mNameError\u001b[0m                                 Traceback (most recent call last)",
      "\u001b[1;32m/Users/alexandreluu/Projects/next-ptf-webserver/Notebooks/analytics.ipynb Cell 2\u001b[0m line \u001b[0;36m1\n\u001b[0;32m----> <a href='vscode-notebook-cell:/Users/alexandreluu/Projects/next-ptf-webserver/Notebooks/analytics.ipynb#W1sZmlsZQ%3D%3D?line=0'>1</a>\u001b[0m pandas\u001b[39m.\u001b[39mDataFrame(results\u001b[39m.\u001b[39mjson())\u001b[39m.\u001b[39mgroupby([\u001b[39m'\u001b[39m\u001b[39msymbol\u001b[39m\u001b[39m'\u001b[39m])\n",
      "\u001b[0;31mNameError\u001b[0m: name 'results' is not defined"
     ]
    }
   ],
   "source": [
    "pandas.DataFrame(results.json()).groupby(['symbol'])"
   ]
  },
  {
   "cell_type": "code",
   "execution_count": 7,
   "metadata": {},
   "outputs": [],
   "source": [
    "import redis\n",
    "\n",
    "r = redis.Redis(host='localhost', port=6379, db=0)\n",
    "ts = r.ts()"
   ]
  },
  {
   "cell_type": "code",
   "execution_count": 8,
   "metadata": {},
   "outputs": [],
   "source": [
    "from datetime import datetime, timedelta"
   ]
  },
  {
   "cell_type": "code",
   "execution_count": 9,
   "metadata": {},
   "outputs": [
    {
     "data": {
      "text/plain": [
       "[(1693411760245, 123.0),\n",
       " (1693412117654, 22.0),\n",
       " (1693412128374, 22.0),\n",
       " (1693413307242, 1.0)]"
      ]
     },
     "execution_count": 9,
     "metadata": {},
     "output_type": "execute_result"
    }
   ],
   "source": [
    "l = ts.range(\"pcmd\", \"-\", \"+\", latest=True)\n",
    "l"
   ]
  },
  {
   "cell_type": "code",
   "execution_count": 11,
   "metadata": {},
   "outputs": [
    {
     "data": {
      "text/plain": [
       "[(1693413307242, 1.0),\n",
       " (1693412128374, 22.0),\n",
       " (1693412117654, 22.0),\n",
       " (1693411760245, 123.0)]"
      ]
     },
     "execution_count": 11,
     "metadata": {},
     "output_type": "execute_result"
    }
   ],
   "source": [
    "ts.revrange('pcmd', '-', '+', cou)"
   ]
  },
  {
   "cell_type": "code",
   "execution_count": 333,
   "metadata": {},
   "outputs": [
    {
     "data": {
      "text/plain": [
       "(1693413307242, 1.0)"
      ]
     },
     "execution_count": 333,
     "metadata": {},
     "output_type": "execute_result"
    }
   ],
   "source": [
    "last = ts.get(\"pcmd\")\n",
    "last\n"
   ]
  },
  {
   "cell_type": "code",
   "execution_count": 46,
   "metadata": {},
   "outputs": [
    {
     "data": {
      "text/plain": [
       "datetime.datetime(2023, 8, 30, 18, 35, 7, 242000)"
      ]
     },
     "execution_count": 46,
     "metadata": {},
     "output_type": "execute_result"
    }
   ],
   "source": [
    "datetime.fromtimestamp(last[0]/ 1000)"
   ]
  },
  {
   "cell_type": "code",
   "execution_count": null,
   "metadata": {},
   "outputs": [],
   "source": [
    "r.exists(\"pcmd\")"
   ]
  },
  {
   "cell_type": "code",
   "execution_count": null,
   "metadata": {},
   "outputs": [],
   "source": [
    "pubsub = r.pubsub()\n"
   ]
  },
  {
   "cell_type": "code",
   "execution_count": 25,
   "metadata": {},
   "outputs": [],
   "source": [
    "keys = r.keys()\n",
    "keys[0].decode('ascii')== 'TERRAVEST INDUSTRIES INC'\n",
    "terra = ts.revrange(keys[0], '-', '+')"
   ]
  },
  {
   "cell_type": "code",
   "execution_count": 35,
   "metadata": {},
   "outputs": [
    {
     "name": "stdout",
     "output_type": "stream",
     "text": [
      "(1794673845185, 18.09621661725303)\n",
      "1794673845185\n"
     ]
    },
    {
     "data": {
      "text/plain": [
       "datetime.datetime(2026, 11, 14, 17, 30, 45, 185000)"
      ]
     },
     "execution_count": 35,
     "metadata": {},
     "output_type": "execute_result"
    }
   ],
   "source": [
    "print(terra[0])\n",
    "d = terra[0][0]\n",
    "print(d)\n",
    "datetime.fromtimestamp(d / 1_000)"
   ]
  },
  {
   "cell_type": "code",
   "execution_count": 33,
   "metadata": {},
   "outputs": [
    {
     "data": {
      "text/plain": [
       "[(1794673845185, 18.09621661725303)]"
      ]
     },
     "execution_count": 33,
     "metadata": {},
     "output_type": "execute_result"
    }
   ],
   "source": [
    "ts.range(keys[0], 1794673845185, 1794673845185)"
   ]
  },
  {
   "cell_type": "code",
   "execution_count": null,
   "metadata": {},
   "outputs": [],
   "source": [
    "pubsub.subscribe(\"channel1\")"
   ]
  },
  {
   "cell_type": "code",
   "execution_count": 21,
   "metadata": {},
   "outputs": [
    {
     "data": {
      "text/plain": [
       "[3, 4, 5, 6, 7, 8, 9]"
      ]
     },
     "execution_count": 21,
     "metadata": {},
     "output_type": "execute_result"
    }
   ],
   "source": [
    "# for message in pubsub.listen():\n",
    "#     print(message)\n",
    "\n",
    "def start(func, *args, **kwargs):\n",
    "    if isinstance(func, str):\n",
    "        wrapper = lambda x: getattr(x, func)(*args, **kwargs)\n",
    "    else:\n",
    "        wrapper = lambda x: func(x, *args, **kwargs)\n",
    "    n = [1,2,3,4,5,6,7,8,9]\n",
    "    for i in n:\n",
    "        if wrapper(i):\n",
    "            yield i\n",
    "\n",
    "list(start(lambda x: x > 2))"
   ]
  },
  {
   "cell_type": "code",
   "execution_count": 53,
   "metadata": {},
   "outputs": [
    {
     "data": {
      "text/plain": [
       "datetime.datetime(2023, 9, 18, 9, 55, 42, 954089)"
      ]
     },
     "execution_count": 53,
     "metadata": {},
     "output_type": "execute_result"
    }
   ],
   "source": [
    "ts = datetime.now().timestamp()\n",
    "\n",
    "datetime.fromtimestamp(ts)"
   ]
  },
  {
   "cell_type": "code",
   "execution_count": 66,
   "metadata": {},
   "outputs": [],
   "source": [
    "days = [i + 1 for i in range(10)]\n",
    "output = []\n",
    "dates = [(datetime.now() + timedelta(days=-i)).timestamp() for i in days]\n",
    "dates.sort()"
   ]
  },
  {
   "cell_type": "code",
   "execution_count": 127,
   "metadata": {},
   "outputs": [],
   "source": [
    "def get_hprice_from_symbol(symbol: str, depth:int = 10) -> list[any]:\n",
    "    output = []\n",
    "    r = redis.Redis(host='localhost', port=6379, db=0)\n",
    "    ts = r.ts()\n",
    "    tsrev = ts.revrange(symbol, '-', '+', depth)\n",
    "    for item in tsrev:\n",
    "        output.append((datetime.fromtimestamp(item[0] / 1_000), item[1]))\n",
    "    output.reverse()\n",
    "    return output"
   ]
  },
  {
   "cell_type": "code",
   "execution_count": 129,
   "metadata": {},
   "outputs": [
    {
     "data": {
      "text/plain": [
       "[(datetime.datetime(2024, 5, 15, 15, 1, 24, 712000), 16308.048772587164),\n",
       " (datetime.datetime(2024, 5, 16, 15, 1, 24, 712000), 16471.129260313035),\n",
       " (datetime.datetime(2024, 5, 17, 15, 1, 24, 712000), 16141.706675106774),\n",
       " (datetime.datetime(2024, 5, 18, 15, 1, 24, 712000), 15334.621341351436),\n",
       " (datetime.datetime(2024, 5, 19, 15, 1, 24, 712000), 15641.313768178465),\n",
       " (datetime.datetime(2024, 5, 20, 15, 1, 24, 712000), 14702.834942087757),\n",
       " (datetime.datetime(2024, 5, 21, 15, 1, 24, 712000), 15732.0333880339),\n",
       " (datetime.datetime(2024, 5, 22, 15, 1, 24, 712000), 16833.275725196272),\n",
       " (datetime.datetime(2024, 5, 23, 15, 1, 24, 712000), 16328.277453440383),\n",
       " (datetime.datetime(2024, 5, 24, 15, 1, 24, 712000), 15348.58080623396)]"
      ]
     },
     "execution_count": 129,
     "metadata": {},
     "output_type": "execute_result"
    }
   ],
   "source": [
    "get_hprice_from_symbol('CHINA SUN GROUP HIGH-TECH CO')"
   ]
  },
  {
   "cell_type": "code",
   "execution_count": 117,
   "metadata": {},
   "outputs": [
    {
     "data": {
      "text/plain": [
       "1695042297254"
      ]
     },
     "execution_count": 117,
     "metadata": {},
     "output_type": "execute_result"
    }
   ],
   "source": [
    "datetime.now().timestamp()\n",
    "ts.add('abc', int(datetime.now().timestamp() * 1000), 123)"
   ]
  },
  {
   "cell_type": "code",
   "execution_count": 130,
   "metadata": {},
   "outputs": [
    {
     "data": {
      "text/plain": [
       "0.14142135623730953"
      ]
     },
     "execution_count": 130,
     "metadata": {},
     "output_type": "execute_result"
    }
   ],
   "source": [
    "import numpy\n",
    "\n",
    "numpy.std([2, 1.8,2.2,2])"
   ]
  },
  {
   "cell_type": "code",
   "execution_count": 332,
   "metadata": {},
   "outputs": [
    {
     "data": {
      "text/plain": [
       "2.9126213592233037"
      ]
     },
     "execution_count": 332,
     "metadata": {},
     "output_type": "execute_result"
    }
   ],
   "source": [
    "h = get_hprice_from_symbol('CHINA SUN GROUP HIGH-TECH CO', depth=2)\n",
    "a_h = [i[1] for i in h ]\n",
    "numpy.std(a_h) / numpy.mean(a_h) * 100\n"
   ]
  },
  {
   "cell_type": "code",
   "execution_count": 144,
   "metadata": {},
   "outputs": [
    {
     "data": {
      "text/plain": [
       "15730.305630793539"
      ]
     },
     "execution_count": 144,
     "metadata": {},
     "output_type": "execute_result"
    }
   ],
   "source": [
    "numpy.mean(a_h)"
   ]
  },
  {
   "cell_type": "code",
   "execution_count": 335,
   "metadata": {},
   "outputs": [],
   "source": [
    "import tomli\n",
    "\n",
    "with open('../configuration.toml', mode='rb') as f:\n",
    "    c = tomli.load(f)"
   ]
  },
  {
   "cell_type": "code",
   "execution_count": 336,
   "metadata": {},
   "outputs": [
    {
     "data": {
      "text/plain": [
       "{'redis': {'server': 'abc'}, 'sql': {'server': 'vde'}}"
      ]
     },
     "execution_count": 336,
     "metadata": {},
     "output_type": "execute_result"
    }
   ],
   "source": [
    "c"
   ]
  },
  {
   "cell_type": "code",
   "execution_count": 337,
   "metadata": {},
   "outputs": [
    {
     "data": {
      "text/plain": [
       "{'server': 'abc'}"
      ]
     },
     "execution_count": 337,
     "metadata": {},
     "output_type": "execute_result"
    }
   ],
   "source": [
    "c['redis']"
   ]
  },
  {
   "cell_type": "code",
   "execution_count": 338,
   "metadata": {},
   "outputs": [
    {
     "data": {
      "text/plain": [
       "'/Users/alexandreluu/Projects/next-ptf-webserver/Notebooks'"
      ]
     },
     "execution_count": 338,
     "metadata": {},
     "output_type": "execute_result"
    }
   ],
   "source": []
  },
  {
   "cell_type": "code",
   "execution_count": null,
   "metadata": {},
   "outputs": [],
   "source": []
  }
 ],
 "metadata": {
  "kernelspec": {
   "display_name": "venv",
   "language": "python",
   "name": "python3"
  },
  "language_info": {
   "codemirror_mode": {
    "name": "ipython",
    "version": 3
   },
   "file_extension": ".py",
   "mimetype": "text/x-python",
   "name": "python",
   "nbconvert_exporter": "python",
   "pygments_lexer": "ipython3",
   "version": "3.9.6"
  },
  "orig_nbformat": 4
 },
 "nbformat": 4,
 "nbformat_minor": 2
}
