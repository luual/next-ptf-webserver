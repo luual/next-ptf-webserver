{
 "cells": [
  {
   "attachments": {},
   "cell_type": "markdown",
   "metadata": {},
   "source": [
    "# Webapi"
   ]
  },
  {
   "cell_type": "code",
   "execution_count": 27,
   "metadata": {},
   "outputs": [
    {
     "name": "stdout",
     "output_type": "stream",
     "text": [
      "{\"result\":null,\"id\":1}\n",
      "{\"e\":\"kline\",\"E\":1687426757367,\"s\":\"BTCUSDT\",\"k\":{\"t\":1687426200000,\"T\":1687427099999,\"s\":\"BTCUSDT\",\"i\":\"15m\",\"f\":3151822264,\"L\":3151826667,\"o\":\"30165.46000000\",\"c\":\"30137.41000000\",\"h\":\"30165.46000000\",\"l\":\"30115.52000000\",\"v\":\"176.21412000\",\"n\":4404,\"x\":false,\"q\":\"5311224.70775790\",\"V\":\"51.43278000\",\"Q\":\"1550117.44342410\",\"B\":\"0\"}}\n",
      "{\"e\":\"kline\",\"E\":1687426759380,\"s\":\"BTCUSDT\",\"k\":{\"t\":1687426200000,\"T\":1687427099999,\"s\":\"BTCUSDT\",\"i\":\"15m\",\"f\":3151822264,\"L\":3151826674,\"o\":\"30165.46000000\",\"c\":\"30137.41000000\",\"h\":\"30165.46000000\",\"l\":\"30115.52000000\",\"v\":\"176.30938000\",\"n\":4411,\"x\":false,\"q\":\"5314095.59768030\",\"V\":\"51.45736000\",\"Q\":\"1550858.22120770\",\"B\":\"0\"}}\n",
      "{\"e\":\"kline\",\"E\":1687426762233,\"s\":\"BTCUSDT\",\"k\":{\"t\":1687426200000,\"T\":1687427099999,\"s\":\"BTCUSDT\",\"i\":\"15m\",\"f\":3151822264,\"L\":3151826687,\"o\":\"30165.46000000\",\"c\":\"30137.42000000\",\"h\":\"30165.46000000\",\"l\":\"30115.52000000\",\"v\":\"176.90595000\",\"n\":4424,\"x\":false,\"q\":\"5332074.67465620\",\"V\":\"51.68658000\",\"Q\":\"1557766.32062010\",\"B\":\"0\"}}\n",
      "{\"e\":\"kline\",\"E\":1687426764500,\"s\":\"BTCUSDT\",\"k\":{\"t\":1687426200000,\"T\":1687427099999,\"s\":\"BTCUSDT\",\"i\":\"15m\",\"f\":3151822264,\"L\":3151826690,\"o\":\"30165.46000000\",\"c\":\"30137.42000000\",\"h\":\"30165.46000000\",\"l\":\"30115.52000000\",\"v\":\"176.91065000\",\"n\":4427,\"x\":false,\"q\":\"5332216.32049640\",\"V\":\"51.68790000\",\"Q\":\"1557806.10201450\",\"B\":\"0\"}}\n"
     ]
    },
    {
     "ename": "KeyboardInterrupt",
     "evalue": "",
     "output_type": "error",
     "traceback": [
      "\u001b[0;31m---------------------------------------------------------------------------\u001b[0m",
      "\u001b[0;31mKeyboardInterrupt\u001b[0m                         Traceback (most recent call last)",
      "Cell \u001b[0;32mIn[27], line 19\u001b[0m\n\u001b[1;32m     17\u001b[0m \u001b[39mprint\u001b[39m(ws\u001b[39m.\u001b[39mrecv())\n\u001b[1;32m     18\u001b[0m \u001b[39mwhile\u001b[39;00m \u001b[39mTrue\u001b[39;00m:\n\u001b[0;32m---> 19\u001b[0m     \u001b[39mprint\u001b[39m(ws\u001b[39m.\u001b[39;49mrecv())\n",
      "File \u001b[0;32m~/Projects/Python/Notebook/Webapi/webapi-env/lib/python3.9/site-packages/websocket/_core.py:362\u001b[0m, in \u001b[0;36mWebSocket.recv\u001b[0;34m(self)\u001b[0m\n\u001b[1;32m    354\u001b[0m \u001b[39m\u001b[39m\u001b[39m\"\"\"\u001b[39;00m\n\u001b[1;32m    355\u001b[0m \u001b[39mReceive string data(byte array) from the server.\u001b[39;00m\n\u001b[1;32m    356\u001b[0m \n\u001b[0;32m   (...)\u001b[0m\n\u001b[1;32m    359\u001b[0m \u001b[39mdata: string (byte array) value.\u001b[39;00m\n\u001b[1;32m    360\u001b[0m \u001b[39m\"\"\"\u001b[39;00m\n\u001b[1;32m    361\u001b[0m \u001b[39mwith\u001b[39;00m \u001b[39mself\u001b[39m\u001b[39m.\u001b[39mreadlock:\n\u001b[0;32m--> 362\u001b[0m     opcode, data \u001b[39m=\u001b[39m \u001b[39mself\u001b[39;49m\u001b[39m.\u001b[39;49mrecv_data()\n\u001b[1;32m    363\u001b[0m \u001b[39mif\u001b[39;00m opcode \u001b[39m==\u001b[39m ABNF\u001b[39m.\u001b[39mOPCODE_TEXT:\n\u001b[1;32m    364\u001b[0m     \u001b[39mreturn\u001b[39;00m data\u001b[39m.\u001b[39mdecode(\u001b[39m\"\u001b[39m\u001b[39mutf-8\u001b[39m\u001b[39m\"\u001b[39m)\n",
      "File \u001b[0;32m~/Projects/Python/Notebook/Webapi/webapi-env/lib/python3.9/site-packages/websocket/_core.py:385\u001b[0m, in \u001b[0;36mWebSocket.recv_data\u001b[0;34m(self, control_frame)\u001b[0m\n\u001b[1;32m    370\u001b[0m \u001b[39mdef\u001b[39;00m \u001b[39mrecv_data\u001b[39m(\u001b[39mself\u001b[39m, control_frame\u001b[39m=\u001b[39m\u001b[39mFalse\u001b[39;00m):\n\u001b[1;32m    371\u001b[0m \u001b[39m    \u001b[39m\u001b[39m\"\"\"\u001b[39;00m\n\u001b[1;32m    372\u001b[0m \u001b[39m    Receive data with operation code.\u001b[39;00m\n\u001b[1;32m    373\u001b[0m \n\u001b[0;32m   (...)\u001b[0m\n\u001b[1;32m    383\u001b[0m \u001b[39m        tuple of operation code and string(byte array) value.\u001b[39;00m\n\u001b[1;32m    384\u001b[0m \u001b[39m    \"\"\"\u001b[39;00m\n\u001b[0;32m--> 385\u001b[0m     opcode, frame \u001b[39m=\u001b[39m \u001b[39mself\u001b[39;49m\u001b[39m.\u001b[39;49mrecv_data_frame(control_frame)\n\u001b[1;32m    386\u001b[0m     \u001b[39mreturn\u001b[39;00m opcode, frame\u001b[39m.\u001b[39mdata\n",
      "File \u001b[0;32m~/Projects/Python/Notebook/Webapi/webapi-env/lib/python3.9/site-packages/websocket/_core.py:406\u001b[0m, in \u001b[0;36mWebSocket.recv_data_frame\u001b[0;34m(self, control_frame)\u001b[0m\n\u001b[1;32m    389\u001b[0m \u001b[39m\u001b[39m\u001b[39m\"\"\"\u001b[39;00m\n\u001b[1;32m    390\u001b[0m \u001b[39mReceive data with operation code.\u001b[39;00m\n\u001b[1;32m    391\u001b[0m \n\u001b[0;32m   (...)\u001b[0m\n\u001b[1;32m    403\u001b[0m \u001b[39m    tuple of operation code and string(byte array) value.\u001b[39;00m\n\u001b[1;32m    404\u001b[0m \u001b[39m\"\"\"\u001b[39;00m\n\u001b[1;32m    405\u001b[0m \u001b[39mwhile\u001b[39;00m \u001b[39mTrue\u001b[39;00m:\n\u001b[0;32m--> 406\u001b[0m     frame \u001b[39m=\u001b[39m \u001b[39mself\u001b[39;49m\u001b[39m.\u001b[39;49mrecv_frame()\n\u001b[1;32m    407\u001b[0m     \u001b[39mif\u001b[39;00m (isEnabledForTrace()):\n\u001b[1;32m    408\u001b[0m         trace(\u001b[39m\"\u001b[39m\u001b[39m++Rcv raw: \u001b[39m\u001b[39m\"\u001b[39m \u001b[39m+\u001b[39m \u001b[39mrepr\u001b[39m(frame\u001b[39m.\u001b[39mformat()))\n",
      "File \u001b[0;32m~/Projects/Python/Notebook/Webapi/webapi-env/lib/python3.9/site-packages/websocket/_core.py:445\u001b[0m, in \u001b[0;36mWebSocket.recv_frame\u001b[0;34m(self)\u001b[0m\n\u001b[1;32m    437\u001b[0m \u001b[39mdef\u001b[39;00m \u001b[39mrecv_frame\u001b[39m(\u001b[39mself\u001b[39m):\n\u001b[1;32m    438\u001b[0m \u001b[39m    \u001b[39m\u001b[39m\"\"\"\u001b[39;00m\n\u001b[1;32m    439\u001b[0m \u001b[39m    Receive data as frame from server.\u001b[39;00m\n\u001b[1;32m    440\u001b[0m \n\u001b[0;32m   (...)\u001b[0m\n\u001b[1;32m    443\u001b[0m \u001b[39m    self.frame_buffer.recv_frame(): ABNF frame object\u001b[39;00m\n\u001b[1;32m    444\u001b[0m \u001b[39m    \"\"\"\u001b[39;00m\n\u001b[0;32m--> 445\u001b[0m     \u001b[39mreturn\u001b[39;00m \u001b[39mself\u001b[39;49m\u001b[39m.\u001b[39;49mframe_buffer\u001b[39m.\u001b[39;49mrecv_frame()\n",
      "File \u001b[0;32m~/Projects/Python/Notebook/Webapi/webapi-env/lib/python3.9/site-packages/websocket/_abnf.py:338\u001b[0m, in \u001b[0;36mframe_buffer.recv_frame\u001b[0;34m(self)\u001b[0m\n\u001b[1;32m    335\u001b[0m \u001b[39mwith\u001b[39;00m \u001b[39mself\u001b[39m\u001b[39m.\u001b[39mlock:\n\u001b[1;32m    336\u001b[0m     \u001b[39m# Header\u001b[39;00m\n\u001b[1;32m    337\u001b[0m     \u001b[39mif\u001b[39;00m \u001b[39mself\u001b[39m\u001b[39m.\u001b[39mhas_received_header():\n\u001b[0;32m--> 338\u001b[0m         \u001b[39mself\u001b[39;49m\u001b[39m.\u001b[39;49mrecv_header()\n\u001b[1;32m    339\u001b[0m     (fin, rsv1, rsv2, rsv3, opcode, has_mask, _) \u001b[39m=\u001b[39m \u001b[39mself\u001b[39m\u001b[39m.\u001b[39mheader\n\u001b[1;32m    341\u001b[0m     \u001b[39m# Frame length\u001b[39;00m\n",
      "File \u001b[0;32m~/Projects/Python/Notebook/Webapi/webapi-env/lib/python3.9/site-packages/websocket/_abnf.py:294\u001b[0m, in \u001b[0;36mframe_buffer.recv_header\u001b[0;34m(self)\u001b[0m\n\u001b[1;32m    293\u001b[0m \u001b[39mdef\u001b[39;00m \u001b[39mrecv_header\u001b[39m(\u001b[39mself\u001b[39m) \u001b[39m-\u001b[39m\u001b[39m>\u001b[39m \u001b[39mNone\u001b[39;00m:\n\u001b[0;32m--> 294\u001b[0m     header \u001b[39m=\u001b[39m \u001b[39mself\u001b[39;49m\u001b[39m.\u001b[39;49mrecv_strict(\u001b[39m2\u001b[39;49m)\n\u001b[1;32m    295\u001b[0m     b1 \u001b[39m=\u001b[39m header[\u001b[39m0\u001b[39m]\n\u001b[1;32m    296\u001b[0m     fin \u001b[39m=\u001b[39m b1 \u001b[39m>>\u001b[39m \u001b[39m7\u001b[39m \u001b[39m&\u001b[39m \u001b[39m1\u001b[39m\n",
      "File \u001b[0;32m~/Projects/Python/Notebook/Webapi/webapi-env/lib/python3.9/site-packages/websocket/_abnf.py:373\u001b[0m, in \u001b[0;36mframe_buffer.recv_strict\u001b[0;34m(self, bufsize)\u001b[0m\n\u001b[1;32m    365\u001b[0m shortage \u001b[39m=\u001b[39m bufsize \u001b[39m-\u001b[39m \u001b[39msum\u001b[39m(\u001b[39mmap\u001b[39m(\u001b[39mlen\u001b[39m, \u001b[39mself\u001b[39m\u001b[39m.\u001b[39mrecv_buffer))\n\u001b[1;32m    366\u001b[0m \u001b[39mwhile\u001b[39;00m shortage \u001b[39m>\u001b[39m \u001b[39m0\u001b[39m:\n\u001b[1;32m    367\u001b[0m     \u001b[39m# Limit buffer size that we pass to socket.recv() to avoid\u001b[39;00m\n\u001b[1;32m    368\u001b[0m     \u001b[39m# fragmenting the heap -- the number of bytes recv() actually\u001b[39;00m\n\u001b[0;32m   (...)\u001b[0m\n\u001b[1;32m    371\u001b[0m     \u001b[39m# buffers allocated and then shrunk, which results in\u001b[39;00m\n\u001b[1;32m    372\u001b[0m     \u001b[39m# fragmentation.\u001b[39;00m\n\u001b[0;32m--> 373\u001b[0m     bytes_ \u001b[39m=\u001b[39m \u001b[39mself\u001b[39;49m\u001b[39m.\u001b[39;49mrecv(\u001b[39mmin\u001b[39;49m(\u001b[39m16384\u001b[39;49m, shortage))\n\u001b[1;32m    374\u001b[0m     \u001b[39mself\u001b[39m\u001b[39m.\u001b[39mrecv_buffer\u001b[39m.\u001b[39mappend(bytes_)\n\u001b[1;32m    375\u001b[0m     shortage \u001b[39m-\u001b[39m\u001b[39m=\u001b[39m \u001b[39mlen\u001b[39m(bytes_)\n",
      "File \u001b[0;32m~/Projects/Python/Notebook/Webapi/webapi-env/lib/python3.9/site-packages/websocket/_core.py:529\u001b[0m, in \u001b[0;36mWebSocket._recv\u001b[0;34m(self, bufsize)\u001b[0m\n\u001b[1;32m    527\u001b[0m \u001b[39mdef\u001b[39;00m \u001b[39m_recv\u001b[39m(\u001b[39mself\u001b[39m, bufsize):\n\u001b[1;32m    528\u001b[0m     \u001b[39mtry\u001b[39;00m:\n\u001b[0;32m--> 529\u001b[0m         \u001b[39mreturn\u001b[39;00m recv(\u001b[39mself\u001b[39;49m\u001b[39m.\u001b[39;49msock, bufsize)\n\u001b[1;32m    530\u001b[0m     \u001b[39mexcept\u001b[39;00m WebSocketConnectionClosedException:\n\u001b[1;32m    531\u001b[0m         \u001b[39mif\u001b[39;00m \u001b[39mself\u001b[39m\u001b[39m.\u001b[39msock:\n",
      "File \u001b[0;32m~/Projects/Python/Notebook/Webapi/webapi-env/lib/python3.9/site-packages/websocket/_socket.py:108\u001b[0m, in \u001b[0;36mrecv\u001b[0;34m(sock, bufsize)\u001b[0m\n\u001b[1;32m    106\u001b[0m         bytes_ \u001b[39m=\u001b[39m sock\u001b[39m.\u001b[39mrecv(bufsize)\n\u001b[1;32m    107\u001b[0m     \u001b[39melse\u001b[39;00m:\n\u001b[0;32m--> 108\u001b[0m         bytes_ \u001b[39m=\u001b[39m _recv()\n\u001b[1;32m    109\u001b[0m \u001b[39mexcept\u001b[39;00m \u001b[39mTimeoutError\u001b[39;00m:\n\u001b[1;32m    110\u001b[0m     \u001b[39mraise\u001b[39;00m WebSocketTimeoutException(\u001b[39m\"\u001b[39m\u001b[39mConnection timed out\u001b[39m\u001b[39m\"\u001b[39m)\n",
      "File \u001b[0;32m~/Projects/Python/Notebook/Webapi/webapi-env/lib/python3.9/site-packages/websocket/_socket.py:87\u001b[0m, in \u001b[0;36mrecv.<locals>._recv\u001b[0;34m()\u001b[0m\n\u001b[1;32m     85\u001b[0m \u001b[39mdef\u001b[39;00m \u001b[39m_recv\u001b[39m():\n\u001b[1;32m     86\u001b[0m     \u001b[39mtry\u001b[39;00m:\n\u001b[0;32m---> 87\u001b[0m         \u001b[39mreturn\u001b[39;00m sock\u001b[39m.\u001b[39;49mrecv(bufsize)\n\u001b[1;32m     88\u001b[0m     \u001b[39mexcept\u001b[39;00m SSLWantReadError:\n\u001b[1;32m     89\u001b[0m         \u001b[39mpass\u001b[39;00m\n",
      "File \u001b[0;32m/Applications/Xcode.app/Contents/Developer/Library/Frameworks/Python3.framework/Versions/3.9/lib/python3.9/ssl.py:1226\u001b[0m, in \u001b[0;36mSSLSocket.recv\u001b[0;34m(self, buflen, flags)\u001b[0m\n\u001b[1;32m   1222\u001b[0m     \u001b[39mif\u001b[39;00m flags \u001b[39m!=\u001b[39m \u001b[39m0\u001b[39m:\n\u001b[1;32m   1223\u001b[0m         \u001b[39mraise\u001b[39;00m \u001b[39mValueError\u001b[39;00m(\n\u001b[1;32m   1224\u001b[0m             \u001b[39m\"\u001b[39m\u001b[39mnon-zero flags not allowed in calls to recv() on \u001b[39m\u001b[39m%s\u001b[39;00m\u001b[39m\"\u001b[39m \u001b[39m%\u001b[39m\n\u001b[1;32m   1225\u001b[0m             \u001b[39mself\u001b[39m\u001b[39m.\u001b[39m\u001b[39m__class__\u001b[39m)\n\u001b[0;32m-> 1226\u001b[0m     \u001b[39mreturn\u001b[39;00m \u001b[39mself\u001b[39;49m\u001b[39m.\u001b[39;49mread(buflen)\n\u001b[1;32m   1227\u001b[0m \u001b[39melse\u001b[39;00m:\n\u001b[1;32m   1228\u001b[0m     \u001b[39mreturn\u001b[39;00m \u001b[39msuper\u001b[39m()\u001b[39m.\u001b[39mrecv(buflen, flags)\n",
      "File \u001b[0;32m/Applications/Xcode.app/Contents/Developer/Library/Frameworks/Python3.framework/Versions/3.9/lib/python3.9/ssl.py:1101\u001b[0m, in \u001b[0;36mSSLSocket.read\u001b[0;34m(self, len, buffer)\u001b[0m\n\u001b[1;32m   1099\u001b[0m         \u001b[39mreturn\u001b[39;00m \u001b[39mself\u001b[39m\u001b[39m.\u001b[39m_sslobj\u001b[39m.\u001b[39mread(\u001b[39mlen\u001b[39m, buffer)\n\u001b[1;32m   1100\u001b[0m     \u001b[39melse\u001b[39;00m:\n\u001b[0;32m-> 1101\u001b[0m         \u001b[39mreturn\u001b[39;00m \u001b[39mself\u001b[39;49m\u001b[39m.\u001b[39;49m_sslobj\u001b[39m.\u001b[39;49mread(\u001b[39mlen\u001b[39;49m)\n\u001b[1;32m   1102\u001b[0m \u001b[39mexcept\u001b[39;00m SSLError \u001b[39mas\u001b[39;00m x:\n\u001b[1;32m   1103\u001b[0m     \u001b[39mif\u001b[39;00m x\u001b[39m.\u001b[39margs[\u001b[39m0\u001b[39m] \u001b[39m==\u001b[39m SSL_ERROR_EOF \u001b[39mand\u001b[39;00m \u001b[39mself\u001b[39m\u001b[39m.\u001b[39msuppress_ragged_eofs:\n",
      "\u001b[0;31mKeyboardInterrupt\u001b[0m: "
     ]
    }
   ],
   "source": [
    "# installation\n",
    "import websocket\n",
    "\n",
    "ws = websocket.WebSocket()\n",
    "\n",
    "ws.connect(\"wss://stream.binance.com:9443/ws/ethusdt@miniticker\")\n",
    "\n",
    "ws.send(\"\"\"\n",
    "{\n",
    "\"method\": \"SUBSCRIBE\",\n",
    "\"params\":\n",
    "[\n",
    "\"btcusdt@kline_15m\"\n",
    "],\n",
    "\"id\": 1\n",
    "}\"\"\")\n",
    "print(ws.recv())\n",
    "while True:\n",
    "    print(ws.recv())\n",
    "\n"
   ]
  },
  {
   "attachments": {},
   "cell_type": "markdown",
   "metadata": {},
   "source": []
  },
  {
   "cell_type": "code",
   "execution_count": null,
   "metadata": {},
   "outputs": [],
   "source": [
    "import dataclasses\n",
    "import json\n",
    "from io import StringIO\n",
    "\n",
    "class MyEncoder(json.JSONEncoder):\n",
    "    def default(self, o):\n",
    "        if (dataclasses.is_dataclass(o)):\n",
    "            return dataclasses.asdict(o)\n",
    "        return super().default(o)\n",
    "\n",
    "@dataclasses.dataclass\n",
    "class Inner:\n",
    "    value:str\n",
    "\n",
    "@dataclasses.dataclass\n",
    "class Foo:\n",
    "    x: str\n",
    "    y: str\n",
    "    value: int\n",
    "    child: Inner\n",
    "\n",
    "\n",
    "a = Foo(\"A\", \"B\", 10, Inner(\"Child\"))\n",
    "a\n",
    "\n",
    "data = json.dumps(a, cls=MyEncoder)\n",
    "d = json.load(StringIO(data))\n",
    "print(d)\n"
   ]
  },
  {
   "cell_type": "code",
   "execution_count": null,
   "metadata": {},
   "outputs": [],
   "source": [
    "import time\n",
    "import datetime\n",
    "\n",
    "print(time.time())\n",
    "print(datetime.datetime.now().timestamp())\n",
    "\n"
   ]
  },
  {
   "cell_type": "code",
   "execution_count": null,
   "metadata": {},
   "outputs": [],
   "source": [
    "# installation\n",
    "import websocket\n",
    "\n",
    "ws = websocket.WebSocket()\n",
    "\n",
    "ws.connect(\"ws://localhost:5000/ticker\")\n",
    "\n",
    "ws.send(\"\"\"\n",
    "{\n",
    "    \"symbol\": \"Total\"\n",
    "}\"\"\")\n",
    "while True:\n",
    "    print(ws.recv())"
   ]
  },
  {
   "cell_type": "code",
   "execution_count": null,
   "metadata": {},
   "outputs": [],
   "source": [
    "from datetime import datetime, timedelta\n",
    "\n",
    "days = [i + 1 for i in range(10)]\n",
    "dates = [datetime.now() + timedelta(days=-i) for i in days]\n",
    "dates"
   ]
  },
  {
   "cell_type": "code",
   "execution_count": null,
   "metadata": {},
   "outputs": [],
   "source": [
    "dates[0].timestamp()"
   ]
  },
  {
   "cell_type": "code",
   "execution_count": 44,
   "metadata": {},
   "outputs": [
    {
     "data": {
      "text/plain": [
       "1"
      ]
     },
     "execution_count": 44,
     "metadata": {},
     "output_type": "execute_result"
    }
   ],
   "source": [
    "import random\n",
    "random.randrange(0,2)\n"
   ]
  },
  {
   "cell_type": "code",
   "execution_count": 5,
   "metadata": {},
   "outputs": [
    {
     "data": {
      "text/plain": [
       "'a349204d-5d58-4b48-bfb6-fb7fbd7ae103'"
      ]
     },
     "execution_count": 5,
     "metadata": {},
     "output_type": "execute_result"
    }
   ],
   "source": [
    "# Generate UUID\n",
    "\n",
    "import uuid\n",
    "\n",
    "str(uuid.uuid4())"
   ]
  },
  {
   "cell_type": "code",
   "execution_count": null,
   "metadata": {},
   "outputs": [],
   "source": []
  },
  {
   "cell_type": "code",
   "execution_count": null,
   "metadata": {},
   "outputs": [],
   "source": []
  },
  {
   "cell_type": "code",
   "execution_count": null,
   "metadata": {},
   "outputs": [],
   "source": []
  },
  {
   "cell_type": "code",
   "execution_count": null,
   "metadata": {},
   "outputs": [],
   "source": []
  },
  {
   "cell_type": "code",
   "execution_count": null,
   "metadata": {},
   "outputs": [],
   "source": []
  },
  {
   "cell_type": "code",
   "execution_count": null,
   "metadata": {},
   "outputs": [],
   "source": []
  },
  {
   "cell_type": "code",
   "execution_count": null,
   "metadata": {},
   "outputs": [],
   "source": []
  },
  {
   "cell_type": "code",
   "execution_count": null,
   "metadata": {},
   "outputs": [],
   "source": []
  }
 ],
 "metadata": {
  "kernelspec": {
   "display_name": "webapi-env",
   "language": "python",
   "name": "python3"
  },
  "language_info": {
   "codemirror_mode": {
    "name": "ipython",
    "version": 3
   },
   "file_extension": ".py",
   "mimetype": "text/x-python",
   "name": "python",
   "nbconvert_exporter": "python",
   "pygments_lexer": "ipython3",
   "version": "3.9.6"
  },
  "orig_nbformat": 4
 },
 "nbformat": 4,
 "nbformat_minor": 2
}
