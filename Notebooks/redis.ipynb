{
 "cells": [
  {
   "cell_type": "markdown",
   "metadata": {},
   "source": [
    "# Redis & MongoDb Notebook"
   ]
  },
  {
   "cell_type": "markdown",
   "metadata": {},
   "source": [
    "## Setup Notebook\n",
    "\n",
    "Following code will setup the notebook in add the path inside the venv sys.path"
   ]
  },
  {
   "cell_type": "code",
   "execution_count": 62,
   "metadata": {},
   "outputs": [
    {
     "name": "stdout",
     "output_type": "stream",
     "text": [
      "['/Users/alexandreluu/Projects/next-ptf-webserver/Notebooks', '/Library/Developer/CommandLineTools/Library/Frameworks/Python3.framework/Versions/3.9/lib/python39.zip', '/Library/Developer/CommandLineTools/Library/Frameworks/Python3.framework/Versions/3.9/lib/python3.9', '/Library/Developer/CommandLineTools/Library/Frameworks/Python3.framework/Versions/3.9/lib/python3.9/lib-dynload', '', '/Users/alexandreluu/Projects/next-ptf-webserver/venv/lib/python3.9/site-packages', '/Users/alexandreluu/Projects/next-ptf-webserver/']\n"
     ]
    }
   ],
   "source": [
    "import sys\n",
    "import os\n",
    "\n",
    "def SetupPath():\n",
    "    root_path = os.environ['VIRTUAL_ENV'].replace('venv', '')\n",
    "    if root_path not in sys.path:\n",
    "        print(root_path)\n",
    "        sys.path.append(root_path)\n",
    "    \n",
    "SetupPath()\n",
    "print(sys.path)"
   ]
  },
  {
   "cell_type": "code",
   "execution_count": 63,
   "metadata": {},
   "outputs": [
    {
     "ename": "FileNotFoundError",
     "evalue": "[Errno 2] No such file or directory: 'configuration.toml'",
     "output_type": "error",
     "traceback": [
      "\u001b[0;31m---------------------------------------------------------------------------\u001b[0m",
      "\u001b[0;31mFileNotFoundError\u001b[0m                         Traceback (most recent call last)",
      "\u001b[1;32m/Users/alexandreluu/Projects/next-ptf-webserver/Notebooks/redis.ipynb Cell 4\u001b[0m line \u001b[0;36m1\n\u001b[0;32m----> <a href='vscode-notebook-cell:/Users/alexandreluu/Projects/next-ptf-webserver/Notebooks/redis.ipynb#X24sZmlsZQ%3D%3D?line=0'>1</a>\u001b[0m \u001b[39mfrom\u001b[39;00m \u001b[39msrc\u001b[39;00m\u001b[39m.\u001b[39;00m\u001b[39mrepositories\u001b[39;00m\u001b[39m.\u001b[39;00m\u001b[39mstock\u001b[39;00m \u001b[39mimport\u001b[39;00m StockRepository\n\u001b[1;32m      <a href='vscode-notebook-cell:/Users/alexandreluu/Projects/next-ptf-webserver/Notebooks/redis.ipynb#X24sZmlsZQ%3D%3D?line=2'>3</a>\u001b[0m a \u001b[39m=\u001b[39m StockRepository()\u001b[39m.\u001b[39mget_all()\n",
      "File \u001b[0;32m~/Projects/next-ptf-webserver/src/repositories/__init__.py:2\u001b[0m\n\u001b[1;32m      1\u001b[0m \u001b[39mfrom\u001b[39;00m \u001b[39m.\u001b[39;00m\u001b[39muser\u001b[39;00m \u001b[39mimport\u001b[39;00m \u001b[39m*\u001b[39m\n\u001b[0;32m----> 2\u001b[0m \u001b[39mfrom\u001b[39;00m \u001b[39m.\u001b[39;00m\u001b[39mstock\u001b[39;00m \u001b[39mimport\u001b[39;00m \u001b[39m*\u001b[39m\n\u001b[1;32m      3\u001b[0m \u001b[39mfrom\u001b[39;00m \u001b[39m.\u001b[39;00m\u001b[39mwallet\u001b[39;00m \u001b[39mimport\u001b[39;00m \u001b[39m*\u001b[39m\n\u001b[1;32m      4\u001b[0m \u001b[39mfrom\u001b[39;00m \u001b[39m.\u001b[39;00m\u001b[39mtransaction\u001b[39;00m \u001b[39mimport\u001b[39;00m \u001b[39m*\u001b[39m\n",
      "File \u001b[0;32m~/Projects/next-ptf-webserver/src/repositories/stock.py:6\u001b[0m\n\u001b[1;32m      4\u001b[0m \u001b[39mfrom\u001b[39;00m \u001b[39mbson\u001b[39;00m \u001b[39mimport\u001b[39;00m ObjectId\n\u001b[1;32m      5\u001b[0m \u001b[39mfrom\u001b[39;00m \u001b[39mmongoengine\u001b[39;00m \u001b[39mimport\u001b[39;00m connect\n\u001b[0;32m----> 6\u001b[0m \u001b[39mfrom\u001b[39;00m \u001b[39msrc\u001b[39;00m\u001b[39m.\u001b[39;00m\u001b[39mconfig\u001b[39;00m \u001b[39mimport\u001b[39;00m config\n\u001b[1;32m      8\u001b[0m connect(db\u001b[39m=\u001b[39m\u001b[39m\"\u001b[39m\u001b[39mportfolio-next\u001b[39m\u001b[39m\"\u001b[39m, host\u001b[39m=\u001b[39mconfig[\u001b[39m'\u001b[39m\u001b[39mmongodb\u001b[39m\u001b[39m'\u001b[39m][\u001b[39m'\u001b[39m\u001b[39mhost\u001b[39m\u001b[39m'\u001b[39m])\n\u001b[1;32m     10\u001b[0m \u001b[39mclass\u001b[39;00m \u001b[39mStockRepository\u001b[39;00m:\n",
      "File \u001b[0;32m~/Projects/next-ptf-webserver/src/config.py:5\u001b[0m\n\u001b[1;32m      2\u001b[0m \u001b[39mimport\u001b[39;00m \u001b[39mtomli\u001b[39;00m\n\u001b[1;32m      4\u001b[0m config \u001b[39m=\u001b[39m {}\n\u001b[0;32m----> 5\u001b[0m \u001b[39mwith\u001b[39;00m \u001b[39mopen\u001b[39;49m(\u001b[39m'\u001b[39;49m\u001b[39mconfiguration.toml\u001b[39;49m\u001b[39m'\u001b[39;49m, mode\u001b[39m=\u001b[39;49m\u001b[39m'\u001b[39;49m\u001b[39mrb\u001b[39;49m\u001b[39m'\u001b[39;49m) \u001b[39mas\u001b[39;00m f:\n\u001b[1;32m      6\u001b[0m     config \u001b[39m=\u001b[39m tomli\u001b[39m.\u001b[39mload(f)\n\u001b[1;32m      8\u001b[0m config[\u001b[39m'\u001b[39m\u001b[39mmongodb\u001b[39m\u001b[39m'\u001b[39m][\u001b[39m'\u001b[39m\u001b[39mhost\u001b[39m\u001b[39m'\u001b[39m] \u001b[39m=\u001b[39m config[\u001b[39m'\u001b[39m\u001b[39mmongodb\u001b[39m\u001b[39m'\u001b[39m][\u001b[39m'\u001b[39m\u001b[39mserver\u001b[39m\u001b[39m'\u001b[39m] \u001b[39m+\u001b[39m urllib\u001b[39m.\u001b[39mparse\u001b[39m.\u001b[39mquote(config[\u001b[39m'\u001b[39m\u001b[39mmongodb\u001b[39m\u001b[39m'\u001b[39m][\u001b[39m'\u001b[39m\u001b[39mpassword\u001b[39m\u001b[39m'\u001b[39m]) \u001b[39m+\u001b[39m config[\u001b[39m'\u001b[39m\u001b[39mmongodb\u001b[39m\u001b[39m'\u001b[39m][\u001b[39m'\u001b[39m\u001b[39mcluster\u001b[39m\u001b[39m'\u001b[39m]\n",
      "\u001b[0;31mFileNotFoundError\u001b[0m: [Errno 2] No such file or directory: 'configuration.toml'"
     ]
    }
   ],
   "source": [
    "from src.repositories.stock import StockRepository\n",
    "\n",
    "a = StockRepository().get_all()"
   ]
  },
  {
   "cell_type": "code",
   "execution_count": null,
   "metadata": {},
   "outputs": [],
   "source": [
    "import requests\n",
    "import pandas\n",
    "import redis\n",
    "from redis.commands.timeseries import TimeSeries"
   ]
  },
  {
   "cell_type": "markdown",
   "metadata": {},
   "source": [
    "# Data Class\n",
    "\n",
    "Why dataclass instead of standard class.\n",
    "\n",
    "dataclasses are designed to store data.\n",
    "\n",
    "They are more concise than class as they need less boilerplate to work (no __init__ or __repr__ in dataclasses they are created by default)\n",
    "\n",
    "Dataclasses can be set as immutable with the attribute frozen\n",
    "\n",
    "```py\n",
    "@dataclass(frozen=True)\n",
    "class MyData:\n",
    "    name: str\n",
    "    age: int\n",
    "```\n",
    "\n",
    "Equality is resolve with value instead of object pointer.\n",
    "\n",
    "```py\n",
    "data = MyData('foo', 20)\n",
    "data2 = MyData('foo', 20)\n",
    "\n",
    "data == data2 # Result is True\n",
    "```\n"
   ]
  },
  {
   "cell_type": "code",
   "execution_count": null,
   "metadata": {},
   "outputs": [],
   "source": [
    "from dataclasses import dataclass\n",
    "from decimal import Decimal\n",
    "from datetime import datetime\n",
    "\n",
    "@dataclass()\n",
    "class Last:\n",
    "    symbol: str\n",
    "    last: Decimal\n",
    "    time: datetime"
   ]
  },
  {
   "cell_type": "code",
   "execution_count": null,
   "metadata": {},
   "outputs": [],
   "source": [
    "r = redis.Redis('localhost', port=6379)\n",
    "ts = r.ts()"
   ]
  },
  {
   "cell_type": "code",
   "execution_count": null,
   "metadata": {},
   "outputs": [],
   "source": [
    "keys = r.keys()\n",
    "keys"
   ]
  },
  {
   "cell_type": "code",
   "execution_count": null,
   "metadata": {},
   "outputs": [],
   "source": [
    "def GetLast(ts: TimeSeries, key, ascending: bool = False) -> list[Last]:\n",
    "    ''' Get Values from redis key '''\n",
    "    values = ts.revrange(key, '-', '+')\n",
    "    if ascending:\n",
    "        asc  = [Last(key.decode(), i[1], datetime.fromtimestamp(i[0] / 1_000)) for i in values]\n",
    "        asc.reverse()\n",
    "        return asc\n",
    "    return [Last(key.decode(), i[1], datetime.fromtimestamp(i[0] / 1_000)) for i in values]"
   ]
  },
  {
   "cell_type": "code",
   "execution_count": null,
   "metadata": {},
   "outputs": [],
   "source": [
    "GetLast(ts, keys[1], ascending=True)"
   ]
  },
  {
   "cell_type": "code",
   "execution_count": null,
   "metadata": {},
   "outputs": [],
   "source": []
  },
  {
   "cell_type": "markdown",
   "metadata": {},
   "source": [
    "# Mongodb"
   ]
  },
  {
   "cell_type": "code",
   "execution_count": null,
   "metadata": {},
   "outputs": [],
   "source": []
  }
 ],
 "metadata": {
  "kernelspec": {
   "display_name": "venv",
   "language": "python",
   "name": "python3"
  },
  "language_info": {
   "codemirror_mode": {
    "name": "ipython",
    "version": 3
   },
   "file_extension": ".py",
   "mimetype": "text/x-python",
   "name": "python",
   "nbconvert_exporter": "python",
   "pygments_lexer": "ipython3",
   "version": "3.9.6"
  },
  "orig_nbformat": 4
 },
 "nbformat": 4,
 "nbformat_minor": 2
}
