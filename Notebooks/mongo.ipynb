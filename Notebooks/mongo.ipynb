{
 "cells": [
  {
   "attachments": {},
   "cell_type": "markdown",
   "metadata": {},
   "source": [
    "# Query with GraphQL mongodb"
   ]
  },
  {
   "attachments": {},
   "cell_type": "markdown",
   "metadata": {},
   "source": [
    "## Create User Document"
   ]
  },
  {
   "cell_type": "code",
   "execution_count": 21,
   "metadata": {},
   "outputs": [],
   "source": [
    "from mongoengine import Document\n",
    "from mongoengine.fields import StringField\n",
    "\n",
    "class UserModel(Document):\n",
    "    meta = {'collection': 'Users'}\n",
    "    _id = StringField()\n",
    "    id = StringField()\n",
    "    name = StringField()\n",
    "    lastname = StringField()\n",
    "    userIcon = StringField()"
   ]
  },
  {
   "attachments": {},
   "cell_type": "markdown",
   "metadata": {},
   "source": [
    "## Query User Document"
   ]
  },
  {
   "cell_type": "code",
   "execution_count": 69,
   "metadata": {},
   "outputs": [
    {
     "data": {
      "text/plain": [
       "{'id': 'b349204d-5d58-3b48-bfb6-fb7fbd7ae103',\n",
       " 'name': 'Bon',\n",
       " 'userIcon': 'https://images.unsplash.com/photo-1685972215665-80580c58e4ee?ixlib=rb-4.0.3&ixid=M3wxMjA3fDB8MHxwaG90by1wYWdlfHx8fGVufDB8fHx8fA%3D%3D&auto=format&fit=crop&w=2097&q=80'}"
      ]
     },
     "execution_count": 69,
     "metadata": {},
     "output_type": "execute_result"
    }
   ],
   "source": [
    "import graphene\n",
    "\n",
    "from graphene_mongo import MongoengineObjectType\n",
    "from mongoengine import connect\n",
    "\n",
    "connect(db=\"portfolio-next\",host=\"127.0.0.1:32768\")\n",
    "\n",
    "class User(MongoengineObjectType):\n",
    "    class Meta:\n",
    "        model = UserModel\n",
    "\n",
    "class Query(graphene.ObjectType):\n",
    "    users = graphene.List(User)\n",
    "    use = graphene.Field(User, name=graphene.String())\n",
    "    \n",
    "    def resolve_users(self, info):\n",
    "    \treturn list(UserModel.objects.all())\n",
    "\n",
    "    def resolve_use(self, info, name):\n",
    "        return UserModel.objects.get(name=name)\n",
    "\n",
    "schema = graphene.Schema(query=Query)\n",
    "\n",
    "query = '''\n",
    "    query {\n",
    "        use(name: \"Bon\") {    \n",
    "        id, name, userIcon\n",
    "        }\n",
    "    }\n",
    "'''\n",
    "result = await schema.execute_async(query)\n",
    "result.data['use']"
   ]
  },
  {
   "cell_type": "code",
   "execution_count": 67,
   "metadata": {},
   "outputs": [
    {
     "data": {
      "text/plain": [
       "ExecutionResult(data={'use': {'id': 'b349204d-5d58-3b48-bfb6-fb7fbd7ae103', 'name': 'Bon', 'userIcon': 'https://images.unsplash.com/photo-1685972215665-80580c58e4ee?ixlib=rb-4.0.3&ixid=M3wxMjA3fDB8MHxwaG90by1wYWdlfHx8fGVufDB8fHx8fA%3D%3D&auto=format&fit=crop&w=2097&q=80'}}, errors=None)"
      ]
     },
     "execution_count": 67,
     "metadata": {},
     "output_type": "execute_result"
    }
   ],
   "source": []
  }
 ],
 "metadata": {
  "kernelspec": {
   "display_name": "webapi-env",
   "language": "python",
   "name": "python3"
  },
  "language_info": {
   "codemirror_mode": {
    "name": "ipython",
    "version": 3
   },
   "file_extension": ".py",
   "mimetype": "text/x-python",
   "name": "python",
   "nbconvert_exporter": "python",
   "pygments_lexer": "ipython3",
   "version": "3.9.6"
  },
  "orig_nbformat": 4
 },
 "nbformat": 4,
 "nbformat_minor": 2
}
